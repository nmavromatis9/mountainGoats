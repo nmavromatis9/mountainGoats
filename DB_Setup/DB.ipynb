{
 "cells": [
  {
   "cell_type": "code",
   "execution_count": 1,
   "id": "aca1b04a-a317-4397-a6f7-7f05242d8276",
   "metadata": {},
   "outputs": [
    {
     "data": {
      "text/plain": [
       "'\\nprint(engine.execute(\"SELECT Cost FROM tblHospitalPrices WHERE CPT_Code=10160\").fetchall())\\n#engine.execute(\"PRAGMA table_info(\\'tblHospitalPrices\\')\")\\n\\n#How to print columns of a df\\nfor col in df_HospitalPrices.columns:\\n    print(col)\\n'"
      ]
     },
     "execution_count": 1,
     "metadata": {},
     "output_type": "execute_result"
    }
   ],
   "source": [
    "#File to process data files and create a database\n",
    "import pandas as pd\n",
    "import os, sys, string\n",
    "import sqlalchemy\n",
    "from sqlalchemy import *\n",
    "\n",
    "#Read .xlsx file sheets separately into pandas dataframes\n",
    "\n",
    "try:\n",
    "    xls = pd.ExcelFile('./../DB_XSLX_Files/Mountain_Goats_Database_3.xlsx')\n",
    "except:\n",
    "    print(\"Could not open file\")\n",
    "\n",
    "try:\n",
    "    df_HospitalPrices = pd.read_excel(xls, 'tblHospitalPrices')\n",
    "    df_Insurers = pd.read_excel(xls, 'tblInsurer')\n",
    "    df_HospitalIDs= pd.read_excel(xls, 'tblHospitals')\n",
    "    df_CPT= pd.read_excel(xls, 'tblCPT_Codes')\n",
    "    df_DD= pd.read_excel(xls, 'Data Dictionary')\n",
    "except:\n",
    "    print(\"Could not open sheets into pandas.\")\n",
    "    \n",
    "DFs=[]\n",
    "DFs.append(df_HospitalPrices)\n",
    "DFs.append(df_Insurers)\n",
    "DFs.append(df_HospitalIDs)\n",
    "DFs.append(df_CPT)\n",
    "DFs.append(df_DD)\n",
    "\n",
    "#for i in DFs:\n",
    "    #print(i)\n",
    "    \n",
    "#remove db file if exists to start fresh\n",
    "#might not be necessary...\n",
    "try:\n",
    "    os.remove('hospital.db')\n",
    "except:\n",
    "    print(\"Could not remove hospital.db\")\n",
    "    \n",
    "#Create an on disk sqlite DB using sqlalchemy\n",
    "engine = create_engine('sqlite:///hospital.db', echo=False)\n",
    "#convert dfs to sql tables in DB\n",
    "#NOTE: May need to play around with parameters somewhat.\n",
    "df_HospitalPrices.to_sql('tblHospitalPrices', con=engine, if_exists='replace')\n",
    "df_Insurers.to_sql('tblInsurer', con=engine, if_exists='replace')\n",
    "df_HospitalIDs.to_sql('tblHospitals', con=engine, if_exists='replace')\n",
    "df_CPT.to_sql('tblCPT', con=engine, if_exists='replace')\n",
    "#No conversion done yet for data dictionary.\n",
    "\n",
    "#Code to test function\n",
    "'''\n",
    "print(engine.execute(\"SELECT Cost FROM tblHospitalPrices WHERE CPT_Code=10160\").fetchall())\n",
    "#engine.execute(\"PRAGMA table_info('tblHospitalPrices')\")\n",
    "\n",
    "#How to print columns of a df\n",
    "for col in df_HospitalPrices.columns:\n",
    "    print(col)\n",
    "'''\n",
    "    \n"
   ]
  },
  {
   "cell_type": "code",
   "execution_count": null,
   "id": "31ec442f-2564-4b76-8457-cd8be5fdaab8",
   "metadata": {},
   "outputs": [],
   "source": []
  }
 ],
 "metadata": {
  "kernelspec": {
   "display_name": "Python 3 (ipykernel)",
   "language": "python",
   "name": "python3"
  },
  "language_info": {
   "codemirror_mode": {
    "name": "ipython",
    "version": 3
   },
   "file_extension": ".py",
   "mimetype": "text/x-python",
   "name": "python",
   "nbconvert_exporter": "python",
   "pygments_lexer": "ipython3",
   "version": "3.10.5"
  }
 },
 "nbformat": 4,
 "nbformat_minor": 5
}
